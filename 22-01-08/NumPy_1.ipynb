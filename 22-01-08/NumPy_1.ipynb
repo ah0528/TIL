{
 "cells": [
  {
   "cell_type": "markdown",
   "id": "c3d2d614",
   "metadata": {},
   "source": [
    "# NumPy\n",
    "\n",
    "> 과학 연산을 쉽고 빠르게 할 수 있게 만든 패키지\n",
    "> 배열 데이터를 효과적으로 다룰 수 있다.\n",
    "\n",
    "## 배열 생성\n",
    "\n",
    "* `import numpy as np`로 NumPy 패키지를 불러옴\n",
    "* 배열(Array) : 순서가 있는 같은 종류의 데이터가 저장된 집합\n",
    "\n",
    "\n",
    "\n",
    "### 1. 시퀀스 데이터로부터 배열 생성\n",
    "\n",
    "`arr_obj = np.array(seq_data)`\n",
    "\n",
    "시퀀스 데이터로 리스트와 튜플 타입의 데이터를 모두 사용할 수 있지만 주로 데이터를 이용"
   ]
  },
  {
   "cell_type": "code",
   "execution_count": 84,
   "id": "7715f3ab",
   "metadata": {},
   "outputs": [
    {
     "data": {
      "text/plain": [
       "array([0, 1, 2, 3, 4])"
      ]
     },
     "execution_count": 84,
     "metadata": {},
     "output_type": "execute_result"
    }
   ],
   "source": [
    "import numpy as np\n",
    "a1 = np.array([0,1,2,3,4])\n",
    "a1"
   ]
  },
  {
   "cell_type": "markdown",
   "id": "244873a1",
   "metadata": {},
   "source": [
    "Numpy에서 인자로 정수와 실수가 혼합되어 있으면 모두 실수로 변환한다."
   ]
  },
  {
   "cell_type": "code",
   "execution_count": 85,
   "id": "b40ee68e",
   "metadata": {
    "scrolled": true
   },
   "outputs": [
    {
     "data": {
      "text/plain": [
       "array([0.1, 8. , 2.6, 3. , 7. ])"
      ]
     },
     "execution_count": 85,
     "metadata": {},
     "output_type": "execute_result"
    }
   ],
   "source": [
    "a2 = np.array([0.1, 8, 2.6, 3, 7])\n",
    "a2"
   ]
  },
  {
   "cell_type": "markdown",
   "id": "ac97b665",
   "metadata": {},
   "source": [
    "다차원 배열 생성"
   ]
  },
  {
   "cell_type": "code",
   "execution_count": 86,
   "id": "c801749c",
   "metadata": {},
   "outputs": [
    {
     "data": {
      "text/plain": [
       "array([[1, 2, 3],\n",
       "       [4, 5, 6]])"
      ]
     },
     "execution_count": 86,
     "metadata": {},
     "output_type": "execute_result"
    }
   ],
   "source": [
    "a3 = np.array([[1,2,3],[4,5,6]])\n",
    "a3"
   ]
  },
  {
   "cell_type": "markdown",
   "id": "f1405380",
   "metadata": {},
   "source": [
    "**배열의 속성을 표현하기**"
   ]
  },
  {
   "cell_type": "markdown",
   "id": "60683b7b",
   "metadata": {},
   "source": [
    "1. array의 자료형 확인 : ndrray.dtype"
   ]
  },
  {
   "cell_type": "code",
   "execution_count": 87,
   "id": "e71fe297",
   "metadata": {
    "scrolled": true
   },
   "outputs": [
    {
     "data": {
      "text/plain": [
       "dtype('int32')"
      ]
     },
     "execution_count": 87,
     "metadata": {},
     "output_type": "execute_result"
    }
   ],
   "source": [
    "a1.dtype"
   ]
  },
  {
   "cell_type": "code",
   "execution_count": 88,
   "id": "16c7f24b",
   "metadata": {},
   "outputs": [
    {
     "data": {
      "text/plain": [
       "dtype('float64')"
      ]
     },
     "execution_count": 88,
     "metadata": {},
     "output_type": "execute_result"
    }
   ],
   "source": [
    "a2.dtype"
   ]
  },
  {
   "cell_type": "code",
   "execution_count": 89,
   "id": "75a72e25",
   "metadata": {},
   "outputs": [
    {
     "data": {
      "text/plain": [
       "dtype('int32')"
      ]
     },
     "execution_count": 89,
     "metadata": {},
     "output_type": "execute_result"
    }
   ],
   "source": [
    "a3.dtype"
   ]
  },
  {
   "cell_type": "markdown",
   "id": "c46c7564",
   "metadata": {},
   "source": [
    "2. 배열의 행렬이 몇 행 몇 열인지 나타냄 : ndrray.shape -> 튜플형태로 반환"
   ]
  },
  {
   "cell_type": "code",
   "execution_count": 90,
   "id": "28cf65cb",
   "metadata": {},
   "outputs": [
    {
     "data": {
      "text/plain": [
       "(5,)"
      ]
     },
     "execution_count": 90,
     "metadata": {},
     "output_type": "execute_result"
    }
   ],
   "source": [
    "a1.shape"
   ]
  },
  {
   "cell_type": "code",
   "execution_count": 91,
   "id": "8603fd80",
   "metadata": {},
   "outputs": [
    {
     "data": {
      "text/plain": [
       "(5,)"
      ]
     },
     "execution_count": 91,
     "metadata": {},
     "output_type": "execute_result"
    }
   ],
   "source": [
    "a2.shape"
   ]
  },
  {
   "cell_type": "code",
   "execution_count": 92,
   "id": "05422878",
   "metadata": {},
   "outputs": [
    {
     "data": {
      "text/plain": [
       "(2, 3)"
      ]
     },
     "execution_count": 92,
     "metadata": {},
     "output_type": "execute_result"
    }
   ],
   "source": [
    "a3.shape"
   ]
  },
  {
   "cell_type": "markdown",
   "id": "cfa4687f",
   "metadata": {},
   "source": [
    "### 2. 범위를 지정해 배열 생성\n",
    "1. aranne() 이용\n",
    "\n",
    "`arr_obj = np.arange([start,] stop[, step])`"
   ]
  },
  {
   "cell_type": "code",
   "execution_count": 93,
   "id": "5ff69242",
   "metadata": {},
   "outputs": [
    {
     "data": {
      "text/plain": [
       "array([1, 3, 5, 7, 9])"
      ]
     },
     "execution_count": 93,
     "metadata": {},
     "output_type": "execute_result"
    }
   ],
   "source": [
    "# 1부터 시작해서 9까지 2만큼 더해 배열 생성\n",
    "b1 = np.arange(1,10,2)\n",
    "b"
   ]
  },
  {
   "cell_type": "code",
   "execution_count": 94,
   "id": "eba93a69",
   "metadata": {},
   "outputs": [
    {
     "data": {
      "text/plain": [
       "array([0, 1, 2, 3, 4, 5, 6, 7, 8, 9])"
      ]
     },
     "execution_count": 94,
     "metadata": {},
     "output_type": "execute_result"
    }
   ],
   "source": [
    "# 0부터 10까지의 배열 생성\n",
    "b2 = np.arange(10)\n",
    "b2"
   ]
  },
  {
   "cell_type": "markdown",
   "id": "d4fd9b95",
   "metadata": {},
   "source": [
    "* `.reshape(m,n)` : m x n 형태의 배열로 변경\n",
    "\n",
    "     ※주의할 점 : arange()로 생성되는 배열의 원소 개수와 reshape(m,n)에서 m x n의 개수가 같아야 한다."
   ]
  },
  {
   "cell_type": "code",
   "execution_count": 95,
   "id": "6c163ff6",
   "metadata": {},
   "outputs": [
    {
     "data": {
      "text/plain": [
       "array([[0, 1],\n",
       "       [2, 3],\n",
       "       [4, 5],\n",
       "       [6, 7],\n",
       "       [8, 9]])"
      ]
     },
     "execution_count": 95,
     "metadata": {},
     "output_type": "execute_result"
    }
   ],
   "source": [
    "b2.reshape(5,2)"
   ]
  },
  {
   "cell_type": "code",
   "execution_count": 96,
   "id": "51c150ee",
   "metadata": {
    "scrolled": true
   },
   "outputs": [
    {
     "data": {
      "text/plain": [
       "array([[10, 15, 20],\n",
       "       [25, 30, 35],\n",
       "       [40, 45, 50]])"
      ]
     },
     "execution_count": 96,
     "metadata": {},
     "output_type": "execute_result"
    }
   ],
   "source": [
    "b3 = np.arange(10,55,5).reshape(3,3)\n",
    "b3"
   ]
  },
  {
   "cell_type": "code",
   "execution_count": 97,
   "id": "e970d16e",
   "metadata": {},
   "outputs": [
    {
     "ename": "ValueError",
     "evalue": "cannot reshape array of size 7 into shape (3,3)",
     "output_type": "error",
     "traceback": [
      "\u001b[1;31m---------------------------------------------------------------------------\u001b[0m",
      "\u001b[1;31mValueError\u001b[0m                                Traceback (most recent call last)",
      "\u001b[1;32m~\\AppData\\Local\\Temp/ipykernel_20000/1284546244.py\u001b[0m in \u001b[0;36m<module>\u001b[1;34m\u001b[0m\n\u001b[1;32m----> 1\u001b[1;33m \u001b[0mnp\u001b[0m\u001b[1;33m.\u001b[0m\u001b[0marange\u001b[0m\u001b[1;33m(\u001b[0m\u001b[1;36m7\u001b[0m\u001b[1;33m)\u001b[0m\u001b[1;33m.\u001b[0m\u001b[0mreshape\u001b[0m\u001b[1;33m(\u001b[0m\u001b[1;36m3\u001b[0m\u001b[1;33m,\u001b[0m\u001b[1;36m3\u001b[0m\u001b[1;33m)\u001b[0m      \u001b[1;31m# 오류발생 : array의 크기가 맞지 않아서 생성불가\u001b[0m\u001b[1;33m\u001b[0m\u001b[1;33m\u001b[0m\u001b[0m\n\u001b[0m",
      "\u001b[1;31mValueError\u001b[0m: cannot reshape array of size 7 into shape (3,3)"
     ]
    }
   ],
   "source": [
    "np.arange(7).reshape(3,3)      # 오류발생 : array의 크기가 맞지 않아서 생성불가"
   ]
  },
  {
   "cell_type": "markdown",
   "id": "14744b71",
   "metadata": {},
   "source": [
    "2. linspace() 이용\n",
    "\n",
    "`arr_obj = np.linspace(start, stop [,step])`\n",
    "\n",
    "* 범위의 시작과 끝을 지정하고 데이터 개수를 지정해 배열을 생성\n",
    "* start부터 stop까지 동일한 간격으로 나눈 num개의 배열을 생성함(step의 기본값은 50)"
   ]
  },
  {
   "cell_type": "code",
   "execution_count": 98,
   "id": "700350f5",
   "metadata": {},
   "outputs": [
    {
     "data": {
      "text/plain": [
       "array([ 1.,  2.,  3.,  4.,  5.,  6.,  7.,  8.,  9., 10.])"
      ]
     },
     "execution_count": 98,
     "metadata": {},
     "output_type": "execute_result"
    }
   ],
   "source": [
    "b4 = np.linspace(1,10,10)\n",
    "b4"
   ]
  },
  {
   "cell_type": "code",
   "execution_count": 99,
   "id": "38e0b9f1",
   "metadata": {},
   "outputs": [
    {
     "data": {
      "text/plain": [
       "array([ 50.        ,  59.18367347,  68.36734694,  77.55102041,\n",
       "        86.73469388,  95.91836735, 105.10204082, 114.28571429,\n",
       "       123.46938776, 132.65306122, 141.83673469, 151.02040816,\n",
       "       160.20408163, 169.3877551 , 178.57142857, 187.75510204,\n",
       "       196.93877551, 206.12244898, 215.30612245, 224.48979592,\n",
       "       233.67346939, 242.85714286, 252.04081633, 261.2244898 ,\n",
       "       270.40816327, 279.59183673, 288.7755102 , 297.95918367,\n",
       "       307.14285714, 316.32653061, 325.51020408, 334.69387755,\n",
       "       343.87755102, 353.06122449, 362.24489796, 371.42857143,\n",
       "       380.6122449 , 389.79591837, 398.97959184, 408.16326531,\n",
       "       417.34693878, 426.53061224, 435.71428571, 444.89795918,\n",
       "       454.08163265, 463.26530612, 472.44897959, 481.63265306,\n",
       "       490.81632653, 500.        ])"
      ]
     },
     "execution_count": 99,
     "metadata": {},
     "output_type": "execute_result"
    }
   ],
   "source": [
    "b5 = np.linspace(50,500)   # step값 생략시 50\n",
    "b5"
   ]
  },
  {
   "cell_type": "markdown",
   "id": "ac713694",
   "metadata": {},
   "source": [
    "### 특별한 형태의 배열 생성\n",
    "1. `zeros()` : 모든 원소가 0인 다차원 배열을 생성\n",
    "\n",
    "    * np.zeros(n) n개의 원소가 모두 0을 갖는 1차원 배열\n",
    "    * np.zeros((m x n)) 원소가 모두 0을 갖는 m x n의 2차원 배열"
   ]
  },
  {
   "cell_type": "code",
   "execution_count": 100,
   "id": "0c2b0a60",
   "metadata": {},
   "outputs": [
    {
     "data": {
      "text/plain": [
       "array([0., 0., 0.])"
      ]
     },
     "execution_count": 100,
     "metadata": {},
     "output_type": "execute_result"
    }
   ],
   "source": [
    "# 모든 원소가 0인 1차원 배열생성\n",
    "np.zeros(3)"
   ]
  },
  {
   "cell_type": "code",
   "execution_count": 101,
   "id": "29b71d46",
   "metadata": {},
   "outputs": [
    {
     "data": {
      "text/plain": [
       "array([[0., 0., 0., 0.],\n",
       "       [0., 0., 0., 0.],\n",
       "       [0., 0., 0., 0.]])"
      ]
     },
     "execution_count": 101,
     "metadata": {},
     "output_type": "execute_result"
    }
   ],
   "source": [
    "# 모든 원소가 0인 3 x 4의 2차원 배열\n",
    "np.zeros((3,4))"
   ]
  },
  {
   "cell_type": "markdown",
   "id": "b15dbd5d",
   "metadata": {},
   "source": [
    "2. `ones()` : 모든 원소가 1인 다차원 배열을 생성\n",
    "    * np.ones(n) n개의 원소가 모두 1을 갖는 1차원 배열\n",
    "    * np.ones((m x n)) 원소가 모두 1을 갖는 m x n의 2차원 배열"
   ]
  },
  {
   "cell_type": "code",
   "execution_count": 102,
   "id": "bff4d796",
   "metadata": {},
   "outputs": [
    {
     "data": {
      "text/plain": [
       "array([1., 1., 1., 1., 1., 1.])"
      ]
     },
     "execution_count": 102,
     "metadata": {},
     "output_type": "execute_result"
    }
   ],
   "source": [
    "# 모든 원소가 1인 1차원 배열생성\n",
    "np.ones(6)"
   ]
  },
  {
   "cell_type": "code",
   "execution_count": 103,
   "id": "8a0d7267",
   "metadata": {},
   "outputs": [
    {
     "data": {
      "text/plain": [
       "array([[1., 1., 1.],\n",
       "       [1., 1., 1.]])"
      ]
     },
     "execution_count": 103,
     "metadata": {},
     "output_type": "execute_result"
    }
   ],
   "source": [
    "# 모든 원소가 1인 2 x 3의 2차원 배열\n",
    "np.ones((2,3))"
   ]
  },
  {
   "cell_type": "markdown",
   "id": "56cb3d2a",
   "metadata": {},
   "source": [
    "3. `eye()` : 대각요소가 1이고 나머지는 0인 배열을 생성\n",
    "    * np.eye(m, n[, k=0, dtype=<class 'float'>])\n",
    "     \n",
    "     k가 양수이면 해당 수 만큼 오른쪽으로 이동, 음수이면 해당 수만큼 왼쪽으로 이동"
   ]
  },
  {
   "cell_type": "code",
   "execution_count": 104,
   "id": "ca7c7a8d",
   "metadata": {},
   "outputs": [
    {
     "data": {
      "text/plain": [
       "array([[1., 0., 0.],\n",
       "       [0., 1., 0.],\n",
       "       [0., 0., 1.]])"
      ]
     },
     "execution_count": 104,
     "metadata": {},
     "output_type": "execute_result"
    }
   ],
   "source": [
    "np.eye(3,3)"
   ]
  },
  {
   "cell_type": "code",
   "execution_count": 105,
   "id": "5449cc1e",
   "metadata": {},
   "outputs": [
    {
     "data": {
      "text/plain": [
       "array([[1., 0., 0., 0., 0., 0.],\n",
       "       [0., 1., 0., 0., 0., 0.],\n",
       "       [0., 0., 1., 0., 0., 0.],\n",
       "       [0., 0., 0., 1., 0., 0.],\n",
       "       [0., 0., 0., 0., 1., 0.]])"
      ]
     },
     "execution_count": 105,
     "metadata": {},
     "output_type": "execute_result"
    }
   ],
   "source": [
    "np.eye(5,6)"
   ]
  },
  {
   "cell_type": "code",
   "execution_count": 106,
   "id": "83f3c823",
   "metadata": {},
   "outputs": [
    {
     "data": {
      "text/plain": [
       "array([[0., 1., 0., 0., 0., 0.],\n",
       "       [0., 0., 1., 0., 0., 0.],\n",
       "       [0., 0., 0., 1., 0., 0.],\n",
       "       [0., 0., 0., 0., 1., 0.],\n",
       "       [0., 0., 0., 0., 0., 1.]])"
      ]
     },
     "execution_count": 106,
     "metadata": {},
     "output_type": "execute_result"
    }
   ],
   "source": [
    "# 대각요소를 오른쪽으로 한칸씩 이동한 배열\n",
    "np.eye(5,6,k=1)"
   ]
  },
  {
   "cell_type": "code",
   "execution_count": 107,
   "id": "07338016",
   "metadata": {},
   "outputs": [
    {
     "data": {
      "text/plain": [
       "array([[0., 0., 0., 0., 0., 0.],\n",
       "       [0., 0., 0., 0., 0., 0.],\n",
       "       [1., 0., 0., 0., 0., 0.],\n",
       "       [0., 1., 0., 0., 0., 0.],\n",
       "       [0., 0., 1., 0., 0., 0.]])"
      ]
     },
     "execution_count": 107,
     "metadata": {},
     "output_type": "execute_result"
    }
   ],
   "source": [
    "# 대각요소를 왼쪽으로 두칸씩 이동한 배열\n",
    "np.eye(5,6,k=-2)"
   ]
  },
  {
   "cell_type": "code",
   "execution_count": 108,
   "id": "7e887191",
   "metadata": {},
   "outputs": [
    {
     "data": {
      "text/plain": [
       "array([[1, 0, 0, 0, 0],\n",
       "       [0, 1, 0, 0, 0],\n",
       "       [0, 0, 1, 0, 0],\n",
       "       [0, 0, 0, 1, 0]])"
      ]
     },
     "execution_count": 108,
     "metadata": {},
     "output_type": "execute_result"
    }
   ],
   "source": [
    "np.eye(4,5,dtype=int)"
   ]
  },
  {
   "cell_type": "markdown",
   "id": "7e3156b4",
   "metadata": {},
   "source": [
    "4. `np.identity(n,[dtype=])` : 정방요소 1인 n x n 크기의 단위행렬 생성"
   ]
  },
  {
   "cell_type": "code",
   "execution_count": 109,
   "id": "3c75caa2",
   "metadata": {},
   "outputs": [
    {
     "data": {
      "text/plain": [
       "array([[1, 0, 0, 0, 0],\n",
       "       [0, 1, 0, 0, 0],\n",
       "       [0, 0, 1, 0, 0],\n",
       "       [0, 0, 0, 1, 0],\n",
       "       [0, 0, 0, 0, 1]])"
      ]
     },
     "execution_count": 109,
     "metadata": {},
     "output_type": "execute_result"
    }
   ],
   "source": [
    "np.identity(5,dtype=int)"
   ]
  },
  {
   "cell_type": "markdown",
   "id": "aeb903ca",
   "metadata": {},
   "source": [
    "5. `np.empty(n[, dtype=])` 또는 `np.empty((n,m)[, dtype=])` : 초기화 되지 않은 배열 생성"
   ]
  },
  {
   "cell_type": "code",
   "execution_count": 110,
   "id": "d9692382",
   "metadata": {},
   "outputs": [
    {
     "data": {
      "text/plain": [
       "array([[1., 0., 0., 0., 0.],\n",
       "       [0., 1., 0., 0., 0.],\n",
       "       [0., 0., 1., 0., 0.]])"
      ]
     },
     "execution_count": 110,
     "metadata": {},
     "output_type": "execute_result"
    }
   ],
   "source": [
    "np.empty((3,5))"
   ]
  },
  {
   "cell_type": "code",
   "execution_count": 111,
   "id": "d9d75257",
   "metadata": {},
   "outputs": [
    {
     "data": {
      "text/plain": [
       "array([1., 1., 1., 1., 1.])"
      ]
     },
     "execution_count": 111,
     "metadata": {},
     "output_type": "execute_result"
    }
   ],
   "source": [
    "np.empty(5)"
   ]
  },
  {
   "cell_type": "markdown",
   "id": "9970d325",
   "metadata": {},
   "source": [
    "### 배열의 데이터 타입 변환\n",
    "NumPy의 배열은 숫자 뿐만 아니라 문자열도 원소로 가질 수 있다\n",
    "* NumPy 데이터의 형식\n",
    "  |기호|의미|\n",
    "  |-----|-----------|\n",
    "  |'b'| 불 |\n",
    "  |'c'| 기호가 있는 정수 |\n",
    "  |'u'| 기호가 없는 정수 |\n",
    "  |'f'| 실수|\n",
    "  |'c'| 복소수 |\n",
    "  |'M'| 날짜 |\n",
    "  |'O'| 파이썬객체 |\n",
    "  |'S' 또는 'a'| 바이트 문자열 |\n",
    "  |'U'| 유니코드 |"
   ]
  },
  {
   "cell_type": "markdown",
   "id": "beeb99aa",
   "metadata": {},
   "source": [
    "* `astype(dtype)` : 배열의 모든 요소를 지정한 데이터 타입으로 변환\n",
    "\n",
    "배열이 문자열로 되어있다면 연산을 하기 위해서 숫자로 변환해야한다."
   ]
  },
  {
   "cell_type": "code",
   "execution_count": 112,
   "id": "c6cdaa71",
   "metadata": {},
   "outputs": [
    {
     "data": {
      "text/plain": [
       "array(['1.657', '3.4', '8.354', '6', '1'], dtype='<U5')"
      ]
     },
     "execution_count": 112,
     "metadata": {},
     "output_type": "execute_result"
    }
   ],
   "source": [
    "# 요소가 문자열인 배열 생성\n",
    "str_a = np.array(['1.657','3.4','8.354','6','1'])\n",
    "str_a"
   ]
  },
  {
   "cell_type": "code",
   "execution_count": 113,
   "id": "5cd4b51d",
   "metadata": {},
   "outputs": [
    {
     "data": {
      "text/plain": [
       "array([1.657, 3.4  , 8.354, 6.   , 1.   ], dtype=float32)"
      ]
     },
     "execution_count": 113,
     "metadata": {},
     "output_type": "execute_result"
    }
   ],
   "source": [
    "# str_a를 실수형으로 변환\n",
    "num_a = str_a.astype(dtype='f')\n",
    "num_a\n",
    "# str_a.astype(dtype=float)와 같음"
   ]
  },
  {
   "cell_type": "code",
   "execution_count": 114,
   "id": "4a2f381a",
   "metadata": {},
   "outputs": [
    {
     "data": {
      "text/plain": [
       "(dtype('<U5'), dtype('float32'))"
      ]
     },
     "execution_count": 114,
     "metadata": {},
     "output_type": "execute_result"
    }
   ],
   "source": [
    "str_a.dtype, num_a.dtype"
   ]
  },
  {
   "cell_type": "code",
   "execution_count": 115,
   "id": "09f5599d",
   "metadata": {},
   "outputs": [
    {
     "data": {
      "text/plain": [
       "array([1, 0, 5, 9])"
      ]
     },
     "execution_count": 115,
     "metadata": {},
     "output_type": "execute_result"
    }
   ],
   "source": [
    "# 실수형 요소가 있는 배열을 정수형 데이터 타입으로 변환\n",
    "float_a = np.array([1.56, 0.64, 5, 9.36])\n",
    "float_a.astype(dtype=int)   # 소숫점 이하 값들은 버림"
   ]
  },
  {
   "cell_type": "markdown",
   "id": "b6b119b1",
   "metadata": {},
   "source": [
    "### 난수 배열 생성\n",
    "1. `random.rand(n,m)` : 0에서 1사이의 실수 난수를 갖는 n x m 크기의 배열 생성(1은 포함되지 않음)\n",
    "\n",
    "    `random.rand()` : 인자가 없으면 임의의 실수 하나 생성"
   ]
  },
  {
   "cell_type": "code",
   "execution_count": 116,
   "id": "2fc2707a",
   "metadata": {},
   "outputs": [
    {
     "data": {
      "text/plain": [
       "0.06528792579808151"
      ]
     },
     "execution_count": 116,
     "metadata": {},
     "output_type": "execute_result"
    }
   ],
   "source": [
    "# 임의의 실수 하나 생성\n",
    "np.random.rand()"
   ]
  },
  {
   "cell_type": "code",
   "execution_count": 117,
   "id": "badc1598",
   "metadata": {},
   "outputs": [
    {
     "data": {
      "text/plain": [
       "array([[0.14937537, 0.57496926, 0.47314291, 0.35796017],\n",
       "       [0.71406977, 0.00496289, 0.96946325, 0.11658335],\n",
       "       [0.03361627, 0.69422641, 0.10455508, 0.13835064]])"
      ]
     },
     "execution_count": 117,
     "metadata": {},
     "output_type": "execute_result"
    }
   ],
   "source": [
    "# 3 x 4 크기의 난수 배열 생성\n",
    "np.random.rand(3,4)"
   ]
  },
  {
   "cell_type": "markdown",
   "id": "03e78669",
   "metadata": {},
   "source": [
    "2. `random.randint([low,] high [,size = (n x m)])` : low에서 high사이의 정수 난수를 갖는 배열 생성(high는 포함되지 않음)\n",
    "    * low가 입력되지 않으면 0으로 간주\n",
    "    * size가 입력되지 않으면 1으로 간주"
   ]
  },
  {
   "cell_type": "code",
   "execution_count": 118,
   "id": "5278fbb4",
   "metadata": {},
   "outputs": [
    {
     "data": {
      "text/plain": [
       "3"
      ]
     },
     "execution_count": 118,
     "metadata": {},
     "output_type": "execute_result"
    }
   ],
   "source": [
    "np.random.randint(1,10)"
   ]
  },
  {
   "cell_type": "code",
   "execution_count": 83,
   "id": "441fa73b",
   "metadata": {},
   "outputs": [
    {
     "data": {
      "text/plain": [
       "array([[2, 2],\n",
       "       [6, 2]])"
      ]
     },
     "execution_count": 83,
     "metadata": {},
     "output_type": "execute_result"
    }
   ],
   "source": [
    "# 0부터 9사이의 정수 난수를 갖는 2 x 2 크기의 배열 생성\n",
    "np.random.randint(10,size=(2,2))"
   ]
  }
 ],
 "metadata": {
  "kernelspec": {
   "display_name": "Python 3 (ipykernel)",
   "language": "python",
   "name": "python3"
  },
  "language_info": {
   "codemirror_mode": {
    "name": "ipython",
    "version": 3
   },
   "file_extension": ".py",
   "mimetype": "text/x-python",
   "name": "python",
   "nbconvert_exporter": "python",
   "pygments_lexer": "ipython3",
   "version": "3.9.7"
  }
 },
 "nbformat": 4,
 "nbformat_minor": 5
}
