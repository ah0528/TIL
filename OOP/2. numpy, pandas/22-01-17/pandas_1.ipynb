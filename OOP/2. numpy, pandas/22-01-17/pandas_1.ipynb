{
 "cells": [
  {
   "cell_type": "markdown",
   "id": "11a5b15c",
   "metadata": {},
   "source": [
    "# pandas\n",
    "* 파이썬에서 데이터 분석과 처리를 쉽게 할 수 있게 도와주는 pandas 라이브러리\n",
    "* NumPy를 기반으로 만들어졌지만 좀 더 복잡한 데이터 분석에 특화\n",
    "* 같은 데이터 타입의 배열만 처리할 수 있는 NumPy에 반해 pandas는 데이터 타입이 다양하게 섞여 있어도 처리 가능\n",
    "* pandas홈페이지(https://pandas.pydata.org)"
   ]
  },
  {
   "cell_type": "markdown",
   "id": "fc4fdd91",
   "metadata": {},
   "source": [
    "## 구조적 데이터 생성하기\n",
    "* pandas도 NumPy처럼 불러와야 함\n",
    "* `import pandas as pd`\n",
    "### 1. Series를 활용한 데이터 생성\n",
    "`s = pd.Series(seq_data)`\n",
    "\n",
    "* pandas에서 데이터를 생성하는 가장 기본적인 방법 : Series() 이용\n",
    "* Series를 이용하면 Series 형식의 구조적 데이터(라벨을 갖는 1차원 데이터) 생성가능\n",
    "* seq_data(시퀀스 데이터)로는 리스트와 튜플 타입의 데이터를 모두 사용 가능(주로 리스트 데이터를 이용)\n",
    "* 인자로 넣은 시퀀스 데이터에 순서를 표시하는 라벨이 자동으로 부여됨\n",
    "* 세로축 라벨을 index라고 하고, 입력한 시퀀스 데이터를 values라고 함\n",
    "* index는 데이터를 처리할 때 이용"
   ]
  },
  {
   "cell_type": "code",
   "execution_count": 9,
   "id": "f096e2b8",
   "metadata": {},
   "outputs": [
    {
     "data": {
      "text/plain": [
       "0    10\n",
       "1    20\n",
       "2    30\n",
       "3    40\n",
       "4    50\n",
       "dtype: int64"
      ]
     },
     "execution_count": 9,
     "metadata": {},
     "output_type": "execute_result"
    }
   ],
   "source": [
    "import pandas as pd\n",
    "s1 = pd.Series([10,20,30,40,50])\n",
    "s1"
   ]
  },
  {
   "cell_type": "markdown",
   "id": "ddd13002",
   "metadata": {},
   "source": [
    "**Series 데이터는 index와 values를 분리해서 가져올 수 있음**\n",
    "\n",
    "`s.index` : index 가져오기\n",
    "\n",
    "`s.values` : values 가져오기"
   ]
  },
  {
   "cell_type": "code",
   "execution_count": 13,
   "id": "6e4f0b7e",
   "metadata": {},
   "outputs": [
    {
     "data": {
      "text/plain": [
       "RangeIndex(start=0, stop=5, step=1)"
      ]
     },
     "execution_count": 13,
     "metadata": {},
     "output_type": "execute_result"
    }
   ],
   "source": [
    "s1.index"
   ]
  },
  {
   "cell_type": "code",
   "execution_count": 14,
   "id": "8aa7e02a",
   "metadata": {},
   "outputs": [
    {
     "data": {
      "text/plain": [
       "array([10, 20, 30, 40, 50], dtype=int64)"
      ]
     },
     "execution_count": 14,
     "metadata": {},
     "output_type": "execute_result"
    }
   ],
   "source": [
    "s1.values"
   ]
  },
  {
   "cell_type": "markdown",
   "id": "1d56102b",
   "metadata": {},
   "source": [
    "**Series()로 데이터를 생성할 때 문자와 숫자가 혼합된 리스트를 인자로 사용 가능**"
   ]
  },
  {
   "cell_type": "code",
   "execution_count": 20,
   "id": "63164b40",
   "metadata": {},
   "outputs": [
    {
     "data": {
      "text/plain": [
       "0    a\n",
       "1    b\n",
       "2    c\n",
       "3    1\n",
       "4    2\n",
       "5    3\n",
       "dtype: object"
      ]
     },
     "execution_count": 20,
     "metadata": {},
     "output_type": "execute_result"
    }
   ],
   "source": [
    "s2 = pd.Series(['a','b','c',1,2,3])\n",
    "s2"
   ]
  },
  {
   "cell_type": "markdown",
   "id": "fbb6e10b",
   "metadata": {},
   "source": [
    "**np.nan를 이용하여 Series 데이터에 특정 원소가 없음을 표시하기**\n",
    "\n",
    "Nan은 데이터가 없다는 것을 의미 (데이터를 위한 index는 있지만 실제 값은 없음)"
   ]
  },
  {
   "cell_type": "code",
   "execution_count": 22,
   "id": "2bb512d9",
   "metadata": {},
   "outputs": [
    {
     "data": {
      "text/plain": [
       "0     NaN\n",
       "1    10.0\n",
       "2    30.0\n",
       "dtype: float64"
      ]
     },
     "execution_count": 22,
     "metadata": {},
     "output_type": "execute_result"
    }
   ],
   "source": [
    "import numpy as np\n",
    "s3 = pd.Series([np.nan,10,30])\n",
    "s3"
   ]
  },
  {
   "cell_type": "markdown",
   "id": "89d0a313",
   "metadata": {},
   "source": [
    "**Series 데이터를 생성할 때 인자로 index를 추가 가능**\n",
    "\n",
    "`s = pd.Series(seq_data, index = index_seq)`\n",
    "* index_seq도 리스트와 튜플 타입의 데이터를 모두 사용 가능(주로 리스트 데이터를 이용)\n",
    "\n",
    "* ※주의 : seq_data의 항목 개수와 index_seq의 항목 개수는 같아야 함"
   ]
  },
  {
   "cell_type": "code",
   "execution_count": 24,
   "id": "6876f0f1",
   "metadata": {},
   "outputs": [
    {
     "data": {
      "text/plain": [
       "2018-10-07    200.0\n",
       "2018-10-08    195.0\n",
       "2018-10-09      NaN\n",
       "2018-10-10    205.0\n",
       "dtype: float64"
      ]
     },
     "execution_count": 24,
     "metadata": {},
     "output_type": "execute_result"
    }
   ],
   "source": [
    "s4 = pd.Series([200,195,np.nan,205],index=['2018-10-07','2018-10-08','2018-10-09','2018-10-10'])\n",
    "s4"
   ]
  },
  {
   "cell_type": "markdown",
   "id": "df2a0f90",
   "metadata": {},
   "source": [
    "**파이썬의 딕셔너리를 이용해 데이터 생성하기**\n",
    "\n",
    "`s = pd.Series(dict_data)` : 딕셔너리 형태로 입력하면 데이터의 키(keys)와 값(values)이 각각 Series 데이터의 index와 values가 됨"
   ]
  },
  {
   "cell_type": "code",
   "execution_count": 26,
   "id": "94dae888",
   "metadata": {},
   "outputs": [
    {
     "data": {
      "text/plain": [
       "국어    100\n",
       "수학     90\n",
       "영어     95\n",
       "dtype: int64"
      ]
     },
     "execution_count": 26,
     "metadata": {},
     "output_type": "execute_result"
    }
   ],
   "source": [
    "s5 = pd.Series({'국어':100,'수학':90,'영어':95})\n",
    "s5"
   ]
  },
  {
   "cell_type": "markdown",
   "id": "ed264e14",
   "metadata": {},
   "source": [
    "**행/열 인덱스 이름 설정**\n",
    "\n",
    "* index.name\n",
    "* columns.name\n",
    "\n",
    "**해당열이 있으면 내용 갱신, 열이 없으면 추가**\n",
    "\n",
    "* 열추가 : df[열이름(key)]=values\n",
    "* 열 내용 갱신 : df[열이름(key)]=values"
   ]
  },
  {
   "cell_type": "markdown",
   "id": "19b7bdb7",
   "metadata": {},
   "source": [
    "### 2. 날짜 자동 생성 : data_range\n",
    "`pd.date_range(start=None, end=None, periods=None, freq='D)` : 원하는 날짜를 자동으로 생성\n",
    "* steart는 반드시 있어야하고, end나 periods는 둘 중 하나만 있어도 됨\n",
    "* freq를 입력하지 않으면 'D'옵션이 설정되어 달력 날짜 기준으로 하루씩 증가함\n",
    "* 날짜를 입력할 때는 다양한 형식(yyyy-mm-dd, yyyy/mm/dd, yyyy.mm.dd, mm-dd-yyyy, mm/dd/yyyy, mm.dd.yyyy)으로 입력할 수 있고, 생성된 날짜 데이터의 형식은 모두 yyyy-mm-dd임\n",
    "\n",
    "**freq 옵션**\n",
    "\n",
    "|약어|설명|예|\n",
    "|---|--------------------|------------------------------------------|\n",
    "|D|하루 주기|freq='D' : 하루 주기, freq='2D' : 이틀 주기|\n",
    "|B|업무날짜 기준 하루 주기|업무일(월~금) 기준으로 생성|\n",
    "|W|요일 시작 기준 일주일 주기|freq='W', freq='W-SUN' : 일요일로 일주일 시작, freq='W-MON' : 월요일로 일주일 시작|\n",
    "|M|월말 날짜 기준 주기|freq='M' : 한달 주기, freq='3M' : 세 달 주기|\n",
    "|BM|업무 월말 날짜 기준 주기|freq='2BM'|\n",
    "|MS|월초 날짜 기준 주기|freq='MS'|\n",
    "|BMS|업무 월초 날짜 기준 주기|freq='BMS'|\n",
    "|Q|분기 끝 날짜 기준 주기|freq='Q'|\n",
    "|BQ|업무 분기 끝 날짜 기준 주기|freq='BQ'|\n",
    "|QS|분기 시작 날짜 기준 주기|freq='QS'|\n",
    "|BQS|업무 분기 시작 날짜 기준 주기|freq='BQS'|\n",
    "|A|일년 끝 날짜 기준 주기|freq='A'|\n",
    "|BA|업무 일년 끝 날짜 기준 주기|freq='BA'|\n",
    "|AS|일년 시작 날짜 기준 주기|freq='AS'|\n",
    "|BAS|업무 일년 시작 날짜 기준 주기|freq='BAS'|\n",
    "|H|시간 기준 주기|freq='2H' : 2시간 주기|\n",
    "|BH|업무 시간 기준 주기|업무 시간(09:00 ~ 17:00)기준으로 생성|\n",
    "|T, min|분 주기|freq='10T' : 10분 주기, freq='30min' : 30분 주기|\n",
    "|S|초 주기|freq='30S' : 30초 주기|"
   ]
  },
  {
   "cell_type": "code",
   "execution_count": 4,
   "id": "308d5d36",
   "metadata": {},
   "outputs": [
    {
     "data": {
      "text/plain": [
       "DatetimeIndex(['2022-01-09', '2022-01-10', '2022-01-11', '2022-01-12',\n",
       "               '2022-01-13', '2022-01-14', '2022-01-15', '2022-01-16',\n",
       "               '2022-01-17', '2022-01-18', '2022-01-19', '2022-01-20',\n",
       "               '2022-01-21', '2022-01-22', '2022-01-23', '2022-01-24',\n",
       "               '2022-01-25', '2022-01-26', '2022-01-27', '2022-01-28',\n",
       "               '2022-01-29', '2022-01-30', '2022-01-31', '2022-02-01',\n",
       "               '2022-02-02', '2022-02-03', '2022-02-04', '2022-02-05',\n",
       "               '2022-02-06', '2022-02-07', '2022-02-08', '2022-02-09',\n",
       "               '2022-02-10'],\n",
       "              dtype='datetime64[ns]', freq='D')"
      ]
     },
     "execution_count": 4,
     "metadata": {},
     "output_type": "execute_result"
    }
   ],
   "source": [
    "import pandas as pd\n",
    "pd.date_range(start='2022-01-09',end='2022-02-10')"
   ]
  },
  {
   "cell_type": "code",
   "execution_count": 5,
   "id": "04178a06",
   "metadata": {},
   "outputs": [
    {
     "data": {
      "text/plain": [
       "DatetimeIndex(['2022-01-09', '2022-01-10', '2022-01-11'], dtype='datetime64[ns]', freq='D')"
      ]
     },
     "execution_count": 5,
     "metadata": {},
     "output_type": "execute_result"
    }
   ],
   "source": [
    "pd.date_range(start='2022-01-09', periods=3)"
   ]
  },
  {
   "cell_type": "code",
   "execution_count": 11,
   "id": "96449df7",
   "metadata": {},
   "outputs": [
    {
     "data": {
      "text/plain": [
       "DatetimeIndex(['2022-01-10', '2022-01-11', '2022-01-12'], dtype='datetime64[ns]', freq='B')"
      ]
     },
     "execution_count": 11,
     "metadata": {},
     "output_type": "execute_result"
    }
   ],
   "source": [
    "pd.date_range(start='2022-01-08',periods=3,freq='B') # 업무일로 3일 선택하기"
   ]
  },
  {
   "cell_type": "code",
   "execution_count": 7,
   "id": "9d34f9fb",
   "metadata": {},
   "outputs": [
    {
     "data": {
      "text/plain": [
       "DatetimeIndex(['2022-01-16', '2022-01-23', '2022-01-30'], dtype='datetime64[ns]', freq='W-SUN')"
      ]
     },
     "execution_count": 7,
     "metadata": {},
     "output_type": "execute_result"
    }
   ],
   "source": [
    "pd.date_range(start='2022-01-10',periods=3,freq='W') # 주 시작일(일요일)로 3번 선택하기"
   ]
  },
  {
   "cell_type": "code",
   "execution_count": 9,
   "id": "ec1638f3",
   "metadata": {},
   "outputs": [
    {
     "data": {
      "text/plain": [
       "DatetimeIndex(['2022-01-10', '2022-01-17', '2022-01-24'], dtype='datetime64[ns]', freq='W-MON')"
      ]
     },
     "execution_count": 9,
     "metadata": {},
     "output_type": "execute_result"
    }
   ],
   "source": [
    "pd.date_range(start='2022-01-10',periods=3,freq='W-MON') # 주 시작일(월요일)로 3번 선택하기"
   ]
  },
  {
   "cell_type": "code",
   "execution_count": 13,
   "id": "6ee774d4",
   "metadata": {},
   "outputs": [
    {
     "data": {
      "text/plain": [
       "DatetimeIndex(['2022-01-31', '2022-02-28', '2022-03-31'], dtype='datetime64[ns]', freq='M')"
      ]
     },
     "execution_count": 13,
     "metadata": {},
     "output_type": "execute_result"
    }
   ],
   "source": [
    "pd.date_range(start='2022-01-10',periods=3,freq='M') # 월 말 날짜로 3달 추출"
   ]
  },
  {
   "cell_type": "code",
   "execution_count": 15,
   "id": "a010b2f2",
   "metadata": {},
   "outputs": [
    {
     "data": {
      "text/plain": [
       "DatetimeIndex(['2022-04-29', '2022-05-31', '2022-06-30'], dtype='datetime64[ns]', freq='BM')"
      ]
     },
     "execution_count": 15,
     "metadata": {},
     "output_type": "execute_result"
    }
   ],
   "source": [
    "pd.date_range(start='2022-04-10',periods=3,freq='BM')"
   ]
  },
  {
   "cell_type": "code",
   "execution_count": 18,
   "id": "954e6019",
   "metadata": {
    "scrolled": true
   },
   "outputs": [
    {
     "data": {
      "text/plain": [
       "DatetimeIndex(['2022-03-31', '2022-06-30', '2022-09-30', '2022-12-31'], dtype='datetime64[ns]', freq='Q-DEC')"
      ]
     },
     "execution_count": 18,
     "metadata": {},
     "output_type": "execute_result"
    }
   ],
   "source": [
    "pd.date_range(start='2022-01-09',periods=4,freq='Q') # 분기 끝 날짜 기준으로 4개"
   ]
  },
  {
   "cell_type": "code",
   "execution_count": 19,
   "id": "1a455237",
   "metadata": {},
   "outputs": [
    {
     "data": {
      "text/plain": [
       "DatetimeIndex(['2022-12-31', '2023-12-31', '2024-12-31'], dtype='datetime64[ns]', freq='A-DEC')"
      ]
     },
     "execution_count": 19,
     "metadata": {},
     "output_type": "execute_result"
    }
   ],
   "source": [
    "pd.date_range(start='2022-01-09',periods=3,freq='A')"
   ]
  },
  {
   "cell_type": "code",
   "execution_count": 20,
   "id": "cb90e5ec",
   "metadata": {},
   "outputs": [
    {
     "data": {
      "text/plain": [
       "DatetimeIndex(['2023-01-01', '2024-01-01', '2025-01-01'], dtype='datetime64[ns]', freq='AS-JAN')"
      ]
     },
     "execution_count": 20,
     "metadata": {},
     "output_type": "execute_result"
    }
   ],
   "source": [
    "pd.date_range(start='2022-01-09',periods=3,freq='AS')"
   ]
  },
  {
   "cell_type": "code",
   "execution_count": 21,
   "id": "96f29045",
   "metadata": {},
   "outputs": [
    {
     "data": {
      "text/plain": [
       "DatetimeIndex(['2022-01-31', '2022-02-28', '2022-03-31'], dtype='datetime64[ns]', freq='M')"
      ]
     },
     "execution_count": 21,
     "metadata": {},
     "output_type": "execute_result"
    }
   ],
   "source": [
    "pd.date_range(start='2022-01-09',periods=3,freq='M')"
   ]
  },
  {
   "cell_type": "code",
   "execution_count": 23,
   "id": "46b27d98",
   "metadata": {},
   "outputs": [
    {
     "data": {
      "text/plain": [
       "DatetimeIndex(['2022-01-09 00:00:00', '2022-01-09 02:00:00',\n",
       "               '2022-01-09 04:00:00'],\n",
       "              dtype='datetime64[ns]', freq='2H')"
      ]
     },
     "execution_count": 23,
     "metadata": {},
     "output_type": "execute_result"
    }
   ],
   "source": [
    "pd.date_range(start='2022-01-09',periods=3,freq='2H')"
   ]
  },
  {
   "cell_type": "code",
   "execution_count": 24,
   "id": "f60a2d23",
   "metadata": {},
   "outputs": [
    {
     "data": {
      "text/plain": [
       "DatetimeIndex(['2022-01-09 09:00:00', '2022-01-09 12:00:00',\n",
       "               '2022-01-09 15:00:00'],\n",
       "              dtype='datetime64[ns]', freq='3H')"
      ]
     },
     "execution_count": 24,
     "metadata": {},
     "output_type": "execute_result"
    }
   ],
   "source": [
    "pd.date_range(start='2022-01-09 09:00:00',periods=3,freq='3H')"
   ]
  },
  {
   "cell_type": "code",
   "execution_count": 27,
   "id": "6137af29",
   "metadata": {},
   "outputs": [
    {
     "data": {
      "text/plain": [
       "DatetimeIndex(['2022-01-09 09:00:00', '2022-01-09 09:30:00',\n",
       "               '2022-01-09 10:00:00'],\n",
       "              dtype='datetime64[ns]', freq='30T')"
      ]
     },
     "execution_count": 27,
     "metadata": {},
     "output_type": "execute_result"
    }
   ],
   "source": [
    "pd.date_range(start='2022-01-09 09:00:00',periods=3,freq='30T')"
   ]
  },
  {
   "cell_type": "code",
   "execution_count": 28,
   "id": "b41eabe8",
   "metadata": {},
   "outputs": [
    {
     "data": {
      "text/plain": [
       "DatetimeIndex(['2022-01-09 09:00:00', '2022-01-09 09:30:00',\n",
       "               '2022-01-09 10:00:00'],\n",
       "              dtype='datetime64[ns]', freq='30T')"
      ]
     },
     "execution_count": 28,
     "metadata": {},
     "output_type": "execute_result"
    }
   ],
   "source": [
    "pd.date_range(start='2022-01-09 09:00:00',periods=3,freq='30min')"
   ]
  },
  {
   "cell_type": "code",
   "execution_count": 29,
   "id": "02caa9ee",
   "metadata": {},
   "outputs": [
    {
     "data": {
      "text/plain": [
       "DatetimeIndex(['2022-01-09 09:00:00', '2022-01-09 09:00:30',\n",
       "               '2022-01-09 09:01:00'],\n",
       "              dtype='datetime64[ns]', freq='30S')"
      ]
     },
     "execution_count": 29,
     "metadata": {},
     "output_type": "execute_result"
    }
   ],
   "source": [
    "pd.date_range(start='2022-01-09 09:00:00',periods=3,freq='30S')"
   ]
  },
  {
   "cell_type": "code",
   "execution_count": 30,
   "id": "ed4720fa",
   "metadata": {},
   "outputs": [
    {
     "data": {
      "text/plain": [
       "2022-01-10    32\n",
       "2022-01-11    50\n",
       "2022-01-12    43\n",
       "2022-01-13    29\n",
       "2022-01-14    61\n",
       "Freq: B, dtype: int64"
      ]
     },
     "execution_count": 30,
     "metadata": {},
     "output_type": "execute_result"
    }
   ],
   "source": [
    "index_date = pd.date_range(start='2022.01.09',periods=5,freq='B')\n",
    "pd.Series([32,50,43,29,61], index=index_date)"
   ]
  },
  {
   "cell_type": "markdown",
   "id": "87235969",
   "metadata": {},
   "source": [
    "### 3. DataFrame을 활용한 데이터 생성\n",
    "DateFrame을 이용하면 index가 있는 2차원 데이터를 생성하고 처리할 수 있다\n",
    "\n",
    "`df = pd.DataFrame(data [, index=index_data, columns=columns_datd])`\n",
    "\n",
    "* data에는 리스트, 딕셔너리, NumPy의 배열, Series 데이터, DataFrame 데이터를 입력 가능\n",
    "* 세로축 라벨 : index, 가로축 라벨 : columns\n",
    "* index와 columns를 입력하지 않으면 0부터 숫자가 작성됨\n",
    "* ※주의 : data의 행 개수와 index 요소의 개수, data의 열 개수와 columns 요소의 개수가 같아야함"
   ]
  },
  {
   "cell_type": "code",
   "execution_count": 33,
   "id": "60dfe7b8",
   "metadata": {},
   "outputs": [
    {
     "data": {
      "text/html": [
       "<div>\n",
       "<style scoped>\n",
       "    .dataframe tbody tr th:only-of-type {\n",
       "        vertical-align: middle;\n",
       "    }\n",
       "\n",
       "    .dataframe tbody tr th {\n",
       "        vertical-align: top;\n",
       "    }\n",
       "\n",
       "    .dataframe thead th {\n",
       "        text-align: right;\n",
       "    }\n",
       "</style>\n",
       "<table border=\"1\" class=\"dataframe\">\n",
       "  <thead>\n",
       "    <tr style=\"text-align: right;\">\n",
       "      <th></th>\n",
       "      <th>0</th>\n",
       "      <th>1</th>\n",
       "      <th>2</th>\n",
       "    </tr>\n",
       "  </thead>\n",
       "  <tbody>\n",
       "    <tr>\n",
       "      <th>0</th>\n",
       "      <td>1</td>\n",
       "      <td>2</td>\n",
       "      <td>3</td>\n",
       "    </tr>\n",
       "    <tr>\n",
       "      <th>1</th>\n",
       "      <td>4</td>\n",
       "      <td>5</td>\n",
       "      <td>6</td>\n",
       "    </tr>\n",
       "    <tr>\n",
       "      <th>2</th>\n",
       "      <td>7</td>\n",
       "      <td>8</td>\n",
       "      <td>9</td>\n",
       "    </tr>\n",
       "  </tbody>\n",
       "</table>\n",
       "</div>"
      ],
      "text/plain": [
       "   0  1  2\n",
       "0  1  2  3\n",
       "1  4  5  6\n",
       "2  7  8  9"
      ]
     },
     "execution_count": 33,
     "metadata": {},
     "output_type": "execute_result"
    }
   ],
   "source": [
    "pd.DataFrame([[1,2,3],[4,5,6],[7,8,9]])"
   ]
  },
  {
   "cell_type": "code",
   "execution_count": 34,
   "id": "2cdd76f5",
   "metadata": {},
   "outputs": [
    {
     "data": {
      "text/html": [
       "<div>\n",
       "<style scoped>\n",
       "    .dataframe tbody tr th:only-of-type {\n",
       "        vertical-align: middle;\n",
       "    }\n",
       "\n",
       "    .dataframe tbody tr th {\n",
       "        vertical-align: top;\n",
       "    }\n",
       "\n",
       "    .dataframe thead th {\n",
       "        text-align: right;\n",
       "    }\n",
       "</style>\n",
       "<table border=\"1\" class=\"dataframe\">\n",
       "  <thead>\n",
       "    <tr style=\"text-align: right;\">\n",
       "      <th></th>\n",
       "      <th>0</th>\n",
       "      <th>1</th>\n",
       "      <th>2</th>\n",
       "    </tr>\n",
       "  </thead>\n",
       "  <tbody>\n",
       "    <tr>\n",
       "      <th>0</th>\n",
       "      <td>10</td>\n",
       "      <td>20</td>\n",
       "      <td>30</td>\n",
       "    </tr>\n",
       "    <tr>\n",
       "      <th>1</th>\n",
       "      <td>40</td>\n",
       "      <td>50</td>\n",
       "      <td>60</td>\n",
       "    </tr>\n",
       "    <tr>\n",
       "      <th>2</th>\n",
       "      <td>70</td>\n",
       "      <td>80</td>\n",
       "      <td>90</td>\n",
       "    </tr>\n",
       "  </tbody>\n",
       "</table>\n",
       "</div>"
      ],
      "text/plain": [
       "    0   1   2\n",
       "0  10  20  30\n",
       "1  40  50  60\n",
       "2  70  80  90"
      ]
     },
     "execution_count": 34,
     "metadata": {},
     "output_type": "execute_result"
    }
   ],
   "source": [
    "pd.DataFrame([[10,20,30],[40,50,60],[70,80,90]])"
   ]
  },
  {
   "cell_type": "code",
   "execution_count": 37,
   "id": "ae67b3b7",
   "metadata": {},
   "outputs": [
    {
     "data": {
      "text/html": [
       "<div>\n",
       "<style scoped>\n",
       "    .dataframe tbody tr th:only-of-type {\n",
       "        vertical-align: middle;\n",
       "    }\n",
       "\n",
       "    .dataframe tbody tr th {\n",
       "        vertical-align: top;\n",
       "    }\n",
       "\n",
       "    .dataframe thead th {\n",
       "        text-align: right;\n",
       "    }\n",
       "</style>\n",
       "<table border=\"1\" class=\"dataframe\">\n",
       "  <thead>\n",
       "    <tr style=\"text-align: right;\">\n",
       "      <th></th>\n",
       "      <th>A</th>\n",
       "      <th>B</th>\n",
       "      <th>C</th>\n",
       "    </tr>\n",
       "  </thead>\n",
       "  <tbody>\n",
       "    <tr>\n",
       "      <th>2019-09-01</th>\n",
       "      <td>1</td>\n",
       "      <td>2</td>\n",
       "      <td>3</td>\n",
       "    </tr>\n",
       "    <tr>\n",
       "      <th>2019-09-02</th>\n",
       "      <td>4</td>\n",
       "      <td>5</td>\n",
       "      <td>6</td>\n",
       "    </tr>\n",
       "    <tr>\n",
       "      <th>2019-09-03</th>\n",
       "      <td>7</td>\n",
       "      <td>8</td>\n",
       "      <td>9</td>\n",
       "    </tr>\n",
       "    <tr>\n",
       "      <th>2019-09-04</th>\n",
       "      <td>10</td>\n",
       "      <td>11</td>\n",
       "      <td>12</td>\n",
       "    </tr>\n",
       "  </tbody>\n",
       "</table>\n",
       "</div>"
      ],
      "text/plain": [
       "             A   B   C\n",
       "2019-09-01   1   2   3\n",
       "2019-09-02   4   5   6\n",
       "2019-09-03   7   8   9\n",
       "2019-09-04  10  11  12"
      ]
     },
     "execution_count": 37,
     "metadata": {},
     "output_type": "execute_result"
    }
   ],
   "source": [
    "df_index = pd.date_range(start='2019-09-01',periods=4)\n",
    "pd.DataFrame([[1,2,3],[4,5,6],[7,8,9],[10,11,12]],index=df_index,columns=['A','B','C'])"
   ]
  },
  {
   "cell_type": "markdown",
   "id": "d79c5927",
   "metadata": {},
   "source": [
    "* 딕셔너리를 사용하면 딕셔너리 데이터의 키는 DataFrame에서 columns로 지정됨"
   ]
  },
  {
   "cell_type": "code",
   "execution_count": 52,
   "id": "ad98784b",
   "metadata": {},
   "outputs": [
    {
     "data": {
      "text/plain": [
       "{'연도': [2015, 2016, 2016, 2017, 2017],\n",
       " '지사': ['한국', '한국', '미국', '한국', '미국'],\n",
       " '고객수': [200, 250, 450, 300, 500]}"
      ]
     },
     "execution_count": 52,
     "metadata": {},
     "output_type": "execute_result"
    }
   ],
   "source": [
    "table_data = {'연도':[2015,2016,2016,2017,2017],'지사':['한국','한국','미국','한국','미국'],'고객수':[200,250,450,300,500]}\n",
    "table_data"
   ]
  },
  {
   "cell_type": "code",
   "execution_count": 54,
   "id": "7549d7a3",
   "metadata": {
    "scrolled": true
   },
   "outputs": [
    {
     "data": {
      "text/html": [
       "<div>\n",
       "<style scoped>\n",
       "    .dataframe tbody tr th:only-of-type {\n",
       "        vertical-align: middle;\n",
       "    }\n",
       "\n",
       "    .dataframe tbody tr th {\n",
       "        vertical-align: top;\n",
       "    }\n",
       "\n",
       "    .dataframe thead th {\n",
       "        text-align: right;\n",
       "    }\n",
       "</style>\n",
       "<table border=\"1\" class=\"dataframe\">\n",
       "  <thead>\n",
       "    <tr style=\"text-align: right;\">\n",
       "      <th></th>\n",
       "      <th>연도</th>\n",
       "      <th>지사</th>\n",
       "      <th>고객수</th>\n",
       "    </tr>\n",
       "  </thead>\n",
       "  <tbody>\n",
       "    <tr>\n",
       "      <th>0</th>\n",
       "      <td>2015</td>\n",
       "      <td>한국</td>\n",
       "      <td>200</td>\n",
       "    </tr>\n",
       "    <tr>\n",
       "      <th>1</th>\n",
       "      <td>2016</td>\n",
       "      <td>한국</td>\n",
       "      <td>250</td>\n",
       "    </tr>\n",
       "    <tr>\n",
       "      <th>2</th>\n",
       "      <td>2016</td>\n",
       "      <td>미국</td>\n",
       "      <td>450</td>\n",
       "    </tr>\n",
       "    <tr>\n",
       "      <th>3</th>\n",
       "      <td>2017</td>\n",
       "      <td>한국</td>\n",
       "      <td>300</td>\n",
       "    </tr>\n",
       "    <tr>\n",
       "      <th>4</th>\n",
       "      <td>2017</td>\n",
       "      <td>미국</td>\n",
       "      <td>500</td>\n",
       "    </tr>\n",
       "  </tbody>\n",
       "</table>\n",
       "</div>"
      ],
      "text/plain": [
       "     연도  지사  고객수\n",
       "0  2015  한국  200\n",
       "1  2016  한국  250\n",
       "2  2016  미국  450\n",
       "3  2017  한국  300\n",
       "4  2017  미국  500"
      ]
     },
     "execution_count": 54,
     "metadata": {},
     "output_type": "execute_result"
    }
   ],
   "source": [
    "df_a = pd.DataFrame(table_data)\n",
    "df_a"
   ]
  },
  {
   "cell_type": "markdown",
   "id": "63531dd4",
   "metadata": {},
   "source": [
    "* DataFrame 데이터에서 index, columns, values 확인 가능\n",
    "\n",
    "`DataFrame.index`, `DataFrame.columns`, `DataFrame.values`"
   ]
  },
  {
   "cell_type": "code",
   "execution_count": 55,
   "id": "39ff5958",
   "metadata": {},
   "outputs": [
    {
     "data": {
      "text/plain": [
       "RangeIndex(start=0, stop=5, step=1)"
      ]
     },
     "execution_count": 55,
     "metadata": {},
     "output_type": "execute_result"
    }
   ],
   "source": [
    "df_a.index"
   ]
  },
  {
   "cell_type": "code",
   "execution_count": 56,
   "id": "139c22aa",
   "metadata": {},
   "outputs": [
    {
     "data": {
      "text/plain": [
       "Index(['연도', '지사', '고객수'], dtype='object')"
      ]
     },
     "execution_count": 56,
     "metadata": {},
     "output_type": "execute_result"
    }
   ],
   "source": [
    "df_a.columns"
   ]
  },
  {
   "cell_type": "code",
   "execution_count": 57,
   "id": "1c9b862b",
   "metadata": {},
   "outputs": [
    {
     "data": {
      "text/plain": [
       "array([[2015, '한국', 200],\n",
       "       [2016, '한국', 250],\n",
       "       [2016, '미국', 450],\n",
       "       [2017, '한국', 300],\n",
       "       [2017, '미국', 500]], dtype=object)"
      ]
     },
     "execution_count": 57,
     "metadata": {},
     "output_type": "execute_result"
    }
   ],
   "source": [
    "df_a.values"
   ]
  },
  {
   "cell_type": "markdown",
   "id": "4b7182f0",
   "metadata": {},
   "source": [
    "## 데이터 연산\n",
    "* pandas의 Series()와 DataFrame()으로 생성한 데이터끼리는 사칙연산이 가능\n",
    "* pandas의 데이터끼리는 서로 크기가 달라도 연산이 가능 : 연산을 할 수 있는 항목만 연산을 수행하고, 할 수 없는 부분은 Nan으로 표시"
   ]
  },
  {
   "cell_type": "code",
   "execution_count": 59,
   "id": "91287745",
   "metadata": {},
   "outputs": [
    {
     "data": {
      "text/plain": [
       "0    11\n",
       "1    22\n",
       "2    33\n",
       "3    44\n",
       "4    55\n",
       "dtype: int64"
      ]
     },
     "execution_count": 59,
     "metadata": {},
     "output_type": "execute_result"
    }
   ],
   "source": [
    "s1 = pd.Series([1,2,3,4,5])\n",
    "s2 = pd.Series([10,20,30,40,50])\n",
    "s1+s2"
   ]
  },
  {
   "cell_type": "code",
   "execution_count": 60,
   "id": "5ac435ed",
   "metadata": {},
   "outputs": [
    {
     "data": {
      "text/plain": [
       "0     9\n",
       "1    18\n",
       "2    27\n",
       "3    36\n",
       "4    45\n",
       "dtype: int64"
      ]
     },
     "execution_count": 60,
     "metadata": {},
     "output_type": "execute_result"
    }
   ],
   "source": [
    "s2-s1"
   ]
  },
  {
   "cell_type": "code",
   "execution_count": 61,
   "id": "2a2736fe",
   "metadata": {},
   "outputs": [
    {
     "data": {
      "text/plain": [
       "0     10\n",
       "1     40\n",
       "2     90\n",
       "3    160\n",
       "4    250\n",
       "dtype: int64"
      ]
     },
     "execution_count": 61,
     "metadata": {},
     "output_type": "execute_result"
    }
   ],
   "source": [
    "s1*s2"
   ]
  },
  {
   "cell_type": "code",
   "execution_count": 62,
   "id": "8724ae67",
   "metadata": {},
   "outputs": [
    {
     "data": {
      "text/plain": [
       "0    10.0\n",
       "1    10.0\n",
       "2    10.0\n",
       "3    10.0\n",
       "4    10.0\n",
       "dtype: float64"
      ]
     },
     "execution_count": 62,
     "metadata": {},
     "output_type": "execute_result"
    }
   ],
   "source": [
    "s2/s1"
   ]
  },
  {
   "cell_type": "code",
   "execution_count": 63,
   "id": "52a36aa6",
   "metadata": {},
   "outputs": [
    {
     "data": {
      "text/plain": [
       "0    11.0\n",
       "1    22.0\n",
       "2    33.0\n",
       "3    44.0\n",
       "4    55.0\n",
       "5     NaN\n",
       "dtype: float64"
      ]
     },
     "execution_count": 63,
     "metadata": {},
     "output_type": "execute_result"
    }
   ],
   "source": [
    "s3 = pd.Series([1,2,3,4,5,6])\n",
    "s4 = pd.Series([10,20,30,40,50])\n",
    "s3+s4"
   ]
  },
  {
   "cell_type": "code",
   "execution_count": 64,
   "id": "18883f1c",
   "metadata": {},
   "outputs": [
    {
     "data": {
      "text/plain": [
       "0     9.0\n",
       "1    18.0\n",
       "2    27.0\n",
       "3    36.0\n",
       "4    45.0\n",
       "5     NaN\n",
       "dtype: float64"
      ]
     },
     "execution_count": 64,
     "metadata": {},
     "output_type": "execute_result"
    }
   ],
   "source": [
    "s4-s3"
   ]
  },
  {
   "cell_type": "code",
   "execution_count": 65,
   "id": "5c23b509",
   "metadata": {
    "scrolled": true
   },
   "outputs": [
    {
     "data": {
      "text/plain": [
       "0     10.0\n",
       "1     40.0\n",
       "2     90.0\n",
       "3    160.0\n",
       "4    250.0\n",
       "5      NaN\n",
       "dtype: float64"
      ]
     },
     "execution_count": 65,
     "metadata": {},
     "output_type": "execute_result"
    }
   ],
   "source": [
    "s3*s4"
   ]
  },
  {
   "cell_type": "code",
   "execution_count": 67,
   "id": "107b4e51",
   "metadata": {},
   "outputs": [
    {
     "data": {
      "text/plain": [
       "0    10.0\n",
       "1    10.0\n",
       "2    10.0\n",
       "3    10.0\n",
       "4    10.0\n",
       "5     NaN\n",
       "dtype: float64"
      ]
     },
     "execution_count": 67,
     "metadata": {},
     "output_type": "execute_result"
    }
   ],
   "source": [
    "s4/s3"
   ]
  },
  {
   "cell_type": "code",
   "execution_count": 68,
   "id": "ba36ffd7",
   "metadata": {},
   "outputs": [
    {
     "data": {
      "text/plain": [
       "{'A': [1, 2, 3, 4, 5],\n",
       " 'B': [10, 20, 30, 40, 50],\n",
       " 'C': [100, 200, 300, 400, 500]}"
      ]
     },
     "execution_count": 68,
     "metadata": {},
     "output_type": "execute_result"
    }
   ],
   "source": [
    "table_data1 = {'A':[1,2,3,4,5],'B':[10,20,30,40,50],'C':[100,200,300,400,500]}\n",
    "table_data1"
   ]
  },
  {
   "cell_type": "code",
   "execution_count": 71,
   "id": "3ce8244a",
   "metadata": {},
   "outputs": [
    {
     "data": {
      "text/html": [
       "<div>\n",
       "<style scoped>\n",
       "    .dataframe tbody tr th:only-of-type {\n",
       "        vertical-align: middle;\n",
       "    }\n",
       "\n",
       "    .dataframe tbody tr th {\n",
       "        vertical-align: top;\n",
       "    }\n",
       "\n",
       "    .dataframe thead th {\n",
       "        text-align: right;\n",
       "    }\n",
       "</style>\n",
       "<table border=\"1\" class=\"dataframe\">\n",
       "  <thead>\n",
       "    <tr style=\"text-align: right;\">\n",
       "      <th></th>\n",
       "      <th>A</th>\n",
       "      <th>B</th>\n",
       "      <th>C</th>\n",
       "    </tr>\n",
       "  </thead>\n",
       "  <tbody>\n",
       "    <tr>\n",
       "      <th>0</th>\n",
       "      <td>1</td>\n",
       "      <td>10</td>\n",
       "      <td>100</td>\n",
       "    </tr>\n",
       "    <tr>\n",
       "      <th>1</th>\n",
       "      <td>2</td>\n",
       "      <td>20</td>\n",
       "      <td>200</td>\n",
       "    </tr>\n",
       "    <tr>\n",
       "      <th>2</th>\n",
       "      <td>3</td>\n",
       "      <td>30</td>\n",
       "      <td>300</td>\n",
       "    </tr>\n",
       "    <tr>\n",
       "      <th>3</th>\n",
       "      <td>4</td>\n",
       "      <td>40</td>\n",
       "      <td>400</td>\n",
       "    </tr>\n",
       "    <tr>\n",
       "      <th>4</th>\n",
       "      <td>5</td>\n",
       "      <td>50</td>\n",
       "      <td>500</td>\n",
       "    </tr>\n",
       "  </tbody>\n",
       "</table>\n",
       "</div>"
      ],
      "text/plain": [
       "   A   B    C\n",
       "0  1  10  100\n",
       "1  2  20  200\n",
       "2  3  30  300\n",
       "3  4  40  400\n",
       "4  5  50  500"
      ]
     },
     "execution_count": 71,
     "metadata": {},
     "output_type": "execute_result"
    }
   ],
   "source": [
    "df1 = pd.DataFrame(table_data1)\n",
    "df1"
   ]
  },
  {
   "cell_type": "code",
   "execution_count": 72,
   "id": "51fc55e2",
   "metadata": {},
   "outputs": [
    {
     "data": {
      "text/plain": [
       "{'A': [6, 7, 8], 'B': [60, 70, 80], 'C': [600, 700, 800]}"
      ]
     },
     "execution_count": 72,
     "metadata": {},
     "output_type": "execute_result"
    }
   ],
   "source": [
    "table_data2 = {'A':[6,7,8],'B':[60,70,80],'C':[600,700,800]}\n",
    "table_data2"
   ]
  },
  {
   "cell_type": "code",
   "execution_count": 74,
   "id": "a2c70942",
   "metadata": {},
   "outputs": [
    {
     "data": {
      "text/html": [
       "<div>\n",
       "<style scoped>\n",
       "    .dataframe tbody tr th:only-of-type {\n",
       "        vertical-align: middle;\n",
       "    }\n",
       "\n",
       "    .dataframe tbody tr th {\n",
       "        vertical-align: top;\n",
       "    }\n",
       "\n",
       "    .dataframe thead th {\n",
       "        text-align: right;\n",
       "    }\n",
       "</style>\n",
       "<table border=\"1\" class=\"dataframe\">\n",
       "  <thead>\n",
       "    <tr style=\"text-align: right;\">\n",
       "      <th></th>\n",
       "      <th>A</th>\n",
       "      <th>B</th>\n",
       "      <th>C</th>\n",
       "    </tr>\n",
       "  </thead>\n",
       "  <tbody>\n",
       "    <tr>\n",
       "      <th>0</th>\n",
       "      <td>6</td>\n",
       "      <td>60</td>\n",
       "      <td>600</td>\n",
       "    </tr>\n",
       "    <tr>\n",
       "      <th>1</th>\n",
       "      <td>7</td>\n",
       "      <td>70</td>\n",
       "      <td>700</td>\n",
       "    </tr>\n",
       "    <tr>\n",
       "      <th>2</th>\n",
       "      <td>8</td>\n",
       "      <td>80</td>\n",
       "      <td>800</td>\n",
       "    </tr>\n",
       "  </tbody>\n",
       "</table>\n",
       "</div>"
      ],
      "text/plain": [
       "   A   B    C\n",
       "0  6  60  600\n",
       "1  7  70  700\n",
       "2  8  80  800"
      ]
     },
     "execution_count": 74,
     "metadata": {},
     "output_type": "execute_result"
    }
   ],
   "source": [
    "df2 = pd.DataFrame(table_data2)\n",
    "df2"
   ]
  },
  {
   "cell_type": "code",
   "execution_count": 75,
   "id": "580c7463",
   "metadata": {},
   "outputs": [
    {
     "data": {
      "text/html": [
       "<div>\n",
       "<style scoped>\n",
       "    .dataframe tbody tr th:only-of-type {\n",
       "        vertical-align: middle;\n",
       "    }\n",
       "\n",
       "    .dataframe tbody tr th {\n",
       "        vertical-align: top;\n",
       "    }\n",
       "\n",
       "    .dataframe thead th {\n",
       "        text-align: right;\n",
       "    }\n",
       "</style>\n",
       "<table border=\"1\" class=\"dataframe\">\n",
       "  <thead>\n",
       "    <tr style=\"text-align: right;\">\n",
       "      <th></th>\n",
       "      <th>A</th>\n",
       "      <th>B</th>\n",
       "      <th>C</th>\n",
       "    </tr>\n",
       "  </thead>\n",
       "  <tbody>\n",
       "    <tr>\n",
       "      <th>0</th>\n",
       "      <td>7.0</td>\n",
       "      <td>70.0</td>\n",
       "      <td>700.0</td>\n",
       "    </tr>\n",
       "    <tr>\n",
       "      <th>1</th>\n",
       "      <td>9.0</td>\n",
       "      <td>90.0</td>\n",
       "      <td>900.0</td>\n",
       "    </tr>\n",
       "    <tr>\n",
       "      <th>2</th>\n",
       "      <td>11.0</td>\n",
       "      <td>110.0</td>\n",
       "      <td>1100.0</td>\n",
       "    </tr>\n",
       "    <tr>\n",
       "      <th>3</th>\n",
       "      <td>NaN</td>\n",
       "      <td>NaN</td>\n",
       "      <td>NaN</td>\n",
       "    </tr>\n",
       "    <tr>\n",
       "      <th>4</th>\n",
       "      <td>NaN</td>\n",
       "      <td>NaN</td>\n",
       "      <td>NaN</td>\n",
       "    </tr>\n",
       "  </tbody>\n",
       "</table>\n",
       "</div>"
      ],
      "text/plain": [
       "      A      B       C\n",
       "0   7.0   70.0   700.0\n",
       "1   9.0   90.0   900.0\n",
       "2  11.0  110.0  1100.0\n",
       "3   NaN    NaN     NaN\n",
       "4   NaN    NaN     NaN"
      ]
     },
     "execution_count": 75,
     "metadata": {},
     "output_type": "execute_result"
    }
   ],
   "source": [
    "df1+df2"
   ]
  },
  {
   "cell_type": "markdown",
   "id": "11008696",
   "metadata": {},
   "source": [
    "* pandas에는 데이터 통계 분석을 위한 다양한 메서드가 있어 데이터의 총합, 평균, 표준편차 등을 구할 수 있음\n",
    "\n",
    "|메서드|설명|메서드|설명|\n",
    "|------|------|------|------|\n",
    "|`sum()`|총합|`mean()`|평균|\n",
    "|`std()`|표준편차|`var()`|분산|\n",
    "|`min()`|최솟값|`max()`|최댓값|\n",
    "|`cumsum()`|원소의 누적 합|`cumprod()`|원소의 누적 곱|\n",
    "\n",
    "\n",
    "*`describe()` : 평균, 표준편차, 최댓값, 최솟값 등을 한 번에 구할 수 있음"
   ]
  },
  {
   "cell_type": "code",
   "execution_count": 76,
   "id": "6b84e36f",
   "metadata": {},
   "outputs": [
    {
     "data": {
      "text/plain": [
       "{'봄': [256.5, 264.3, 215.9, 223.2, 312.8],\n",
       " '여름': [770.6, 567.5, 599.8, 387.1, 446.2],\n",
       " '가을': [363.5, 231.2, 293.1, 247.7, 381.6],\n",
       " '겨울': [139.3, 59.9, 76.9, 109.1, 108.1]}"
      ]
     },
     "execution_count": 76,
     "metadata": {},
     "output_type": "execute_result"
    }
   ],
   "source": [
    "table_data3 = {'봄':[256.5,264.3,215.9,223.2,312.8],'여름':[770.6,567.5,599.8,387.1,446.2],'가을':[363.5,231.2,293.1,247.7,381.6],'겨울':[139.3,59.9,76.9,109.1,108.1]}\n",
    "table_data3"
   ]
  },
  {
   "cell_type": "code",
   "execution_count": 78,
   "id": "2b564170",
   "metadata": {},
   "outputs": [
    {
     "data": {
      "text/html": [
       "<div>\n",
       "<style scoped>\n",
       "    .dataframe tbody tr th:only-of-type {\n",
       "        vertical-align: middle;\n",
       "    }\n",
       "\n",
       "    .dataframe tbody tr th {\n",
       "        vertical-align: top;\n",
       "    }\n",
       "\n",
       "    .dataframe thead th {\n",
       "        text-align: right;\n",
       "    }\n",
       "</style>\n",
       "<table border=\"1\" class=\"dataframe\">\n",
       "  <thead>\n",
       "    <tr style=\"text-align: right;\">\n",
       "      <th></th>\n",
       "      <th>봄</th>\n",
       "      <th>여름</th>\n",
       "      <th>가을</th>\n",
       "      <th>겨울</th>\n",
       "    </tr>\n",
       "  </thead>\n",
       "  <tbody>\n",
       "    <tr>\n",
       "      <th>2012</th>\n",
       "      <td>256.5</td>\n",
       "      <td>770.6</td>\n",
       "      <td>363.5</td>\n",
       "      <td>139.3</td>\n",
       "    </tr>\n",
       "    <tr>\n",
       "      <th>2013</th>\n",
       "      <td>264.3</td>\n",
       "      <td>567.5</td>\n",
       "      <td>231.2</td>\n",
       "      <td>59.9</td>\n",
       "    </tr>\n",
       "    <tr>\n",
       "      <th>2014</th>\n",
       "      <td>215.9</td>\n",
       "      <td>599.8</td>\n",
       "      <td>293.1</td>\n",
       "      <td>76.9</td>\n",
       "    </tr>\n",
       "    <tr>\n",
       "      <th>2015</th>\n",
       "      <td>223.2</td>\n",
       "      <td>387.1</td>\n",
       "      <td>247.7</td>\n",
       "      <td>109.1</td>\n",
       "    </tr>\n",
       "    <tr>\n",
       "      <th>2016</th>\n",
       "      <td>312.8</td>\n",
       "      <td>446.2</td>\n",
       "      <td>381.6</td>\n",
       "      <td>108.1</td>\n",
       "    </tr>\n",
       "  </tbody>\n",
       "</table>\n",
       "</div>"
      ],
      "text/plain": [
       "          봄     여름     가을     겨울\n",
       "2012  256.5  770.6  363.5  139.3\n",
       "2013  264.3  567.5  231.2   59.9\n",
       "2014  215.9  599.8  293.1   76.9\n",
       "2015  223.2  387.1  247.7  109.1\n",
       "2016  312.8  446.2  381.6  108.1"
      ]
     },
     "execution_count": 78,
     "metadata": {},
     "output_type": "execute_result"
    }
   ],
   "source": [
    "df3 = pd.DataFrame(table_data3, index=[2012,2013,2014,2015,2016])\n",
    "df3"
   ]
  },
  {
   "cell_type": "code",
   "execution_count": 79,
   "id": "b4b64be9",
   "metadata": {},
   "outputs": [
    {
     "data": {
      "text/plain": [
       "봄     254.54\n",
       "여름    554.24\n",
       "가을    303.42\n",
       "겨울     98.66\n",
       "dtype: float64"
      ]
     },
     "execution_count": 79,
     "metadata": {},
     "output_type": "execute_result"
    }
   ],
   "source": [
    "df3.mean()"
   ]
  },
  {
   "cell_type": "code",
   "execution_count": 80,
   "id": "c733e63d",
   "metadata": {
    "scrolled": true
   },
   "outputs": [
    {
     "data": {
      "text/plain": [
       "봄      38.628267\n",
       "여름    148.888895\n",
       "가을     67.358496\n",
       "겨울     30.925523\n",
       "dtype: float64"
      ]
     },
     "execution_count": 80,
     "metadata": {},
     "output_type": "execute_result"
    }
   ],
   "source": [
    "df3.std()"
   ]
  },
  {
   "cell_type": "code",
   "execution_count": 81,
   "id": "ded9e29d",
   "metadata": {},
   "outputs": [
    {
     "data": {
      "text/plain": [
       "2012    274.472128\n",
       "2013    211.128782\n",
       "2014    221.150739\n",
       "2015    114.166760\n",
       "2016    146.548658\n",
       "dtype: float64"
      ]
     },
     "execution_count": 81,
     "metadata": {},
     "output_type": "execute_result"
    }
   ],
   "source": [
    "df3.std(axis=1)"
   ]
  },
  {
   "cell_type": "code",
   "execution_count": 82,
   "id": "1b0b7a50",
   "metadata": {},
   "outputs": [
    {
     "data": {
      "text/html": [
       "<div>\n",
       "<style scoped>\n",
       "    .dataframe tbody tr th:only-of-type {\n",
       "        vertical-align: middle;\n",
       "    }\n",
       "\n",
       "    .dataframe tbody tr th {\n",
       "        vertical-align: top;\n",
       "    }\n",
       "\n",
       "    .dataframe thead th {\n",
       "        text-align: right;\n",
       "    }\n",
       "</style>\n",
       "<table border=\"1\" class=\"dataframe\">\n",
       "  <thead>\n",
       "    <tr style=\"text-align: right;\">\n",
       "      <th></th>\n",
       "      <th>봄</th>\n",
       "      <th>여름</th>\n",
       "      <th>가을</th>\n",
       "      <th>겨울</th>\n",
       "    </tr>\n",
       "  </thead>\n",
       "  <tbody>\n",
       "    <tr>\n",
       "      <th>count</th>\n",
       "      <td>5.000000</td>\n",
       "      <td>5.000000</td>\n",
       "      <td>5.000000</td>\n",
       "      <td>5.000000</td>\n",
       "    </tr>\n",
       "    <tr>\n",
       "      <th>mean</th>\n",
       "      <td>254.540000</td>\n",
       "      <td>554.240000</td>\n",
       "      <td>303.420000</td>\n",
       "      <td>98.660000</td>\n",
       "    </tr>\n",
       "    <tr>\n",
       "      <th>std</th>\n",
       "      <td>38.628267</td>\n",
       "      <td>148.888895</td>\n",
       "      <td>67.358496</td>\n",
       "      <td>30.925523</td>\n",
       "    </tr>\n",
       "    <tr>\n",
       "      <th>min</th>\n",
       "      <td>215.900000</td>\n",
       "      <td>387.100000</td>\n",
       "      <td>231.200000</td>\n",
       "      <td>59.900000</td>\n",
       "    </tr>\n",
       "    <tr>\n",
       "      <th>25%</th>\n",
       "      <td>223.200000</td>\n",
       "      <td>446.200000</td>\n",
       "      <td>247.700000</td>\n",
       "      <td>76.900000</td>\n",
       "    </tr>\n",
       "    <tr>\n",
       "      <th>50%</th>\n",
       "      <td>256.500000</td>\n",
       "      <td>567.500000</td>\n",
       "      <td>293.100000</td>\n",
       "      <td>108.100000</td>\n",
       "    </tr>\n",
       "    <tr>\n",
       "      <th>75%</th>\n",
       "      <td>264.300000</td>\n",
       "      <td>599.800000</td>\n",
       "      <td>363.500000</td>\n",
       "      <td>109.100000</td>\n",
       "    </tr>\n",
       "    <tr>\n",
       "      <th>max</th>\n",
       "      <td>312.800000</td>\n",
       "      <td>770.600000</td>\n",
       "      <td>381.600000</td>\n",
       "      <td>139.300000</td>\n",
       "    </tr>\n",
       "  </tbody>\n",
       "</table>\n",
       "</div>"
      ],
      "text/plain": [
       "                봄          여름          가을          겨울\n",
       "count    5.000000    5.000000    5.000000    5.000000\n",
       "mean   254.540000  554.240000  303.420000   98.660000\n",
       "std     38.628267  148.888895   67.358496   30.925523\n",
       "min    215.900000  387.100000  231.200000   59.900000\n",
       "25%    223.200000  446.200000  247.700000   76.900000\n",
       "50%    256.500000  567.500000  293.100000  108.100000\n",
       "75%    264.300000  599.800000  363.500000  109.100000\n",
       "max    312.800000  770.600000  381.600000  139.300000"
      ]
     },
     "execution_count": 82,
     "metadata": {},
     "output_type": "execute_result"
    }
   ],
   "source": [
    "df3.describe()"
   ]
  }
 ],
 "metadata": {
  "kernelspec": {
   "display_name": "Python 3 (ipykernel)",
   "language": "python",
   "name": "python3"
  },
  "language_info": {
   "codemirror_mode": {
    "name": "ipython",
    "version": 3
   },
   "file_extension": ".py",
   "mimetype": "text/x-python",
   "name": "python",
   "nbconvert_exporter": "python",
   "pygments_lexer": "ipython3",
   "version": "3.9.7"
  }
 },
 "nbformat": 4,
 "nbformat_minor": 5
}
